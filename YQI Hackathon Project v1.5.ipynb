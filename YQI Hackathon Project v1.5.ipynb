{
 "cells": [
  {
   "cell_type": "code",
   "execution_count": 400,
   "metadata": {},
   "outputs": [],
   "source": [
    "# Yale Quantum Institute Hackathon\n",
    "# Date: June 2020\n",
    "# Team: Quantum Hoppers\n",
    "#\n",
    "# Team Members:\n",
    "# Paola\n",
    "# Amy\n",
    "# Nana\n",
    "# Klaara\n",
    "# Bruce"
   ]
  },
  {
   "cell_type": "code",
   "execution_count": 401,
   "metadata": {},
   "outputs": [],
   "source": [
    "from qiskit import *"
   ]
  },
  {
   "cell_type": "code",
   "execution_count": 402,
   "metadata": {},
   "outputs": [],
   "source": [
    "from qiskit.tools.visualization import plot_histogram"
   ]
  },
  {
   "cell_type": "code",
   "execution_count": 403,
   "metadata": {},
   "outputs": [],
   "source": [
    "from qiskit.tools.monitor import job_monitor"
   ]
  },
  {
   "cell_type": "code",
   "execution_count": 404,
   "metadata": {},
   "outputs": [],
   "source": [
    "import numpy"
   ]
  },
  {
   "cell_type": "code",
   "execution_count": 405,
   "metadata": {},
   "outputs": [],
   "source": [
    "%matplotlib inline"
   ]
  },
  {
   "cell_type": "code",
   "execution_count": null,
   "metadata": {},
   "outputs": [],
   "source": [
    "name = input(\"Enter Your Name:\")"
   ]
  },
  {
   "cell_type": "code",
   "execution_count": 374,
   "metadata": {},
   "outputs": [],
   "source": [
    "if name ==\"\":\n",
    "    name = \"Marie\""
   ]
  },
  {
   "cell_type": "code",
   "execution_count": 375,
   "metadata": {},
   "outputs": [],
   "source": [
    "# create binary version of name\n",
    "ascii_name = bytes(name, \"ascii\")\n",
    "#print(ascii_name, type(ascii_name))\n",
    "ascii_name = ' '.join([\"{0:b}\".format(x) for x in ascii_name])\n",
    "#print(type(ascii_name), ascii_name)"
   ]
  },
  {
   "cell_type": "code",
   "execution_count": 376,
   "metadata": {},
   "outputs": [],
   "source": [
    "# QUANTUM CIRCUIT CREATION"
   ]
  },
  {
   "cell_type": "code",
   "execution_count": 377,
   "metadata": {},
   "outputs": [],
   "source": [
    "# Create 7 circuits becuase each letter has 7 bits\n",
    "my_quantum_circuit_quantity = 7\n",
    "my_classical_circuit_quantity = 7"
   ]
  },
  {
   "cell_type": "code",
   "execution_count": 378,
   "metadata": {},
   "outputs": [],
   "source": [
    "circuit = QuantumCircuit(my_quantum_circuit_quantity,my_classical_circuit_quantity)\n",
    "#print(\"Created {} quantum circuits.\".format(my_quantum_circuit_quantity))"
   ]
  },
  {
   "cell_type": "code",
   "execution_count": 379,
   "metadata": {},
   "outputs": [
    {
     "name": "stdout",
     "output_type": "stream",
     "text": [
      "['1100010', '1110010', '1110101', '1100011', '1100101']\n"
     ]
    }
   ],
   "source": [
    "letters_list = ascii_name.split()\n",
    "print(letters_list)\n",
    "# letters_list contains the binary representation of the person's name in a list\n",
    "# So Marie is '1001101', '1100001', '1110010', '1101001', '1100101'\n",
    "\n",
    "# take each letter and apply a gate to the quantum circuit based on the 0's and 1's that make up the letter  \n",
    "\n",
    "for i in range(0, len(letters_list)):\n",
    "    letters = letters_list[i]\n",
    "    for j in range(0, len(letters)):\n",
    "        # if there is a 1, put a pauli-x gate\n",
    "        if int(letters[j])== 1 and i == 0 :\n",
    "            circuit.x(j)\n",
    "            \n",
    "        # if there is a 1, put a hadamard\n",
    "        if int(letters[j])== 1 and i == 1 :\n",
    "            circuit.h(j)\n",
    "            \n",
    "        ## if there are two 1's in a row, put a controlled not gate\n",
    "        if j < len(letters)-1 and int(letters[j])== 1 and int(letters[j+1])== 1 and i == 2 :\n",
    "            circuit.cx(j,j+1)\n",
    "        ## if there are two 0's in a row, put a controlled not gate    \n",
    "        if j < len(letters)-1 and int(letters[j])== 0 and int(letters[j+1])== 0 and i == 2 :\n",
    "            circuit.cx(j,j+1)\n",
    "            \n",
    "        ## if there are two 1's in a row, put U1  \n",
    "        if j < len(letters)-1 and int(letters[j])== 1 and int(letters[j+1])== 1 and i == 3 :\n",
    "            circuit.u1(j)\n",
    "        ## if there are two 0's in a row, put U1  \n",
    "        if j < len(letters)-1 and int(letters[j])== 0 and int(letters[j+1])== 0 and i == 3 :\n",
    "            circuit.u1(j)\n",
    "            \n",
    "        ## if there are three 1's in a row, put U2  \n",
    "        if j < len(letters)-2 and int(letters[j])== 1 and int(letters[j+1])== 1 and int(letters[j+2])== 1 and i == 4 :\n",
    "            circuit.u2(j,j+1,j+2)\n",
    "        ## if there are three 0's in a row, put U2      \n",
    "        if j < len(letters)-2 and int(letters[j])== 0 and int(letters[j+1])== 0 and int(letters[j+2])== 0 and i == 4 :\n",
    "            circuit.u2(j,j+1,j+2)\n",
    "            \n",
    "        ## if there are four 1's in a row, put U3    \n",
    "        if j < len(letters)-3 and int(letters[j])== 1 and int(letters[j+1])== 1 and int(letters[j+2])== 1 and int(letters[j+3])== 1 and i == 5 :\n",
    "            circuit.u3(j,j+1,j+2, j+3)\n",
    "        ## if there are four 0's in a row, put U3    \n",
    "        if j < len(letters)-3 and int(letters[j])== 0 and int(letters[j+1])== 0 and int(letters[j+2])== 0 and int(letters[j+3])== 0 and i == 5 :\n",
    "            circuit.u3(j,j+1,j+2, j+3)    \n",
    "            \n",
    "        if int(letters[j])== 1 and i == 6 :\n",
    "            circuit.id(j)\n",
    "    circuit.barrier()"
   ]
  },
  {
   "cell_type": "code",
   "execution_count": 380,
   "metadata": {},
   "outputs": [
    {
     "data": {
      "text/plain": [
       "<qiskit.circuit.instructionset.InstructionSet at 0x1a1eb3e390>"
      ]
     },
     "execution_count": 380,
     "metadata": {},
     "output_type": "execute_result"
    }
   ],
   "source": [
    "circuit.measure([0,1,2,3,4,5,6],[0,1,2,3,4,5,6])"
   ]
  },
  {
   "cell_type": "code",
   "execution_count": 381,
   "metadata": {},
   "outputs": [
    {
     "data": {
      "image/png": "[encoded data removed]",
      "text/plain": [
       "<Figure size 1321.99x505.68 with 1 Axes>"
      ]
     },
     "execution_count": 381,
     "metadata": {},
     "output_type": "execute_result"
    }
   ],
   "source": [
    "circuit.draw(output='mpl') "
   ]
  },
  {
   "cell_type": "code",
   "execution_count": 382,
   "metadata": {},
   "outputs": [],
   "source": [
    "# Preparing to send job to Quantum Computer"
   ]
  },
  {
   "cell_type": "code",
   "execution_count": 383,
   "metadata": {},
   "outputs": [
    {
     "ename": "IBMQAccountCredentialsNotFound",
     "evalue": "'No IBM Quantum Experience credentials found.'",
     "output_type": "error",
     "traceback": [
      "\u001b[0;31m---------------------------------------------------------------------------\u001b[0m",
      "\u001b[0;31mIBMQAccountCredentialsNotFound\u001b[0m            Traceback (most recent call last)",
      "\u001b[0;32m<ipython-input-383-beb09c0bf764>\u001b[0m in \u001b[0;36m<module>\u001b[0;34m\u001b[0m\n\u001b[0;32m----> 1\u001b[0;31m \u001b[0mIBMQ\u001b[0m\u001b[0;34m.\u001b[0m\u001b[0mload_account\u001b[0m\u001b[0;34m(\u001b[0m\u001b[0;34m)\u001b[0m\u001b[0;34m\u001b[0m\u001b[0;34m\u001b[0m\u001b[0m\n\u001b[0m",
      "\u001b[0;32m~/opt/anaconda3/lib/python3.7/site-packages/qiskit/providers/ibmq/ibmqfactory.py\u001b[0m in \u001b[0;36mload_account\u001b[0;34m(self)\u001b[0m\n\u001b[1;32m    168\u001b[0m         \u001b[0;32mif\u001b[0m \u001b[0;32mnot\u001b[0m \u001b[0mcredentials_list\u001b[0m\u001b[0;34m:\u001b[0m\u001b[0;34m\u001b[0m\u001b[0;34m\u001b[0m\u001b[0m\n\u001b[1;32m    169\u001b[0m             raise IBMQAccountCredentialsNotFound(\n\u001b[0;32m--> 170\u001b[0;31m                 'No IBM Quantum Experience credentials found.')\n\u001b[0m\u001b[1;32m    171\u001b[0m \u001b[0;34m\u001b[0m\u001b[0m\n\u001b[1;32m    172\u001b[0m         \u001b[0;32mif\u001b[0m \u001b[0mlen\u001b[0m\u001b[0;34m(\u001b[0m\u001b[0mcredentials_list\u001b[0m\u001b[0;34m)\u001b[0m \u001b[0;34m>\u001b[0m \u001b[0;36m1\u001b[0m\u001b[0;34m:\u001b[0m\u001b[0;34m\u001b[0m\u001b[0;34m\u001b[0m\u001b[0m\n",
      "\u001b[0;31mIBMQAccountCredentialsNotFound\u001b[0m: 'No IBM Quantum Experience credentials found.'"
     ]
    }
   ],
   "source": [
    "IBMQ.load_account()"
   ]
  },
  {
   "cell_type": "code",
   "execution_count": 384,
   "metadata": {},
   "outputs": [
    {
     "ename": "IBMQProviderError",
     "evalue": "'No provider matches the specified criteria: hub = ibm-q, group = None, project = None'",
     "output_type": "error",
     "traceback": [
      "\u001b[0;31m---------------------------------------------------------------------------\u001b[0m",
      "\u001b[0;31mIBMQProviderError\u001b[0m                         Traceback (most recent call last)",
      "\u001b[0;32m<ipython-input-384-d651cdcd236d>\u001b[0m in \u001b[0;36m<module>\u001b[0;34m\u001b[0m\n\u001b[0;32m----> 1\u001b[0;31m \u001b[0mprovider\u001b[0m \u001b[0;34m=\u001b[0m \u001b[0mIBMQ\u001b[0m\u001b[0;34m.\u001b[0m\u001b[0mget_provider\u001b[0m\u001b[0;34m(\u001b[0m\u001b[0;34m'ibm-q'\u001b[0m\u001b[0;34m)\u001b[0m\u001b[0;34m\u001b[0m\u001b[0;34m\u001b[0m\u001b[0m\n\u001b[0m",
      "\u001b[0;32m~/opt/anaconda3/lib/python3.7/site-packages/qiskit/providers/ibmq/ibmqfactory.py\u001b[0m in \u001b[0;36mget_provider\u001b[0;34m(self, hub, group, project)\u001b[0m\n\u001b[1;32m    425\u001b[0m             raise IBMQProviderError('No provider matches the specified criteria: '\n\u001b[1;32m    426\u001b[0m                                     \u001b[0;34m'hub = {}, group = {}, project = {}'\u001b[0m\u001b[0;34m\u001b[0m\u001b[0;34m\u001b[0m\u001b[0m\n\u001b[0;32m--> 427\u001b[0;31m                                     .format(hub, group, project))\n\u001b[0m\u001b[1;32m    428\u001b[0m         \u001b[0;32mif\u001b[0m \u001b[0mlen\u001b[0m\u001b[0;34m(\u001b[0m\u001b[0mproviders\u001b[0m\u001b[0;34m)\u001b[0m \u001b[0;34m>\u001b[0m \u001b[0;36m1\u001b[0m\u001b[0;34m:\u001b[0m\u001b[0;34m\u001b[0m\u001b[0;34m\u001b[0m\u001b[0m\n\u001b[1;32m    429\u001b[0m             raise IBMQProviderError('More than one provider matches the specified criteria.'\n",
      "\u001b[0;31mIBMQProviderError\u001b[0m: 'No provider matches the specified criteria: hub = ibm-q, group = None, project = None'"
     ]
    }
   ],
   "source": [
    "provider = IBMQ.get_provider('ibm-q')"
   ]
  },
  {
   "cell_type": "code",
   "execution_count": 385,
   "metadata": {},
   "outputs": [],
   "source": [
    "#London is 5 qbits  - 8192 shots maximum."
   ]
  },
  {
   "cell_type": "code",
   "execution_count": 386,
   "metadata": {},
   "outputs": [],
   "source": [
    "#group = provider.get_backend('ibmq_london')"
   ]
  },
  {
   "cell_type": "code",
   "execution_count": 387,
   "metadata": {},
   "outputs": [],
   "source": [
    "#Melbourne is 15 qbits  - 8192 shots maximum."
   ]
  },
  {
   "cell_type": "code",
   "execution_count": 388,
   "metadata": {},
   "outputs": [
    {
     "ename": "NameError",
     "evalue": "name 'provider' is not defined",
     "output_type": "error",
     "traceback": [
      "\u001b[0;31m---------------------------------------------------------------------------\u001b[0m",
      "\u001b[0;31mNameError\u001b[0m                                 Traceback (most recent call last)",
      "\u001b[0;32m<ipython-input-388-bd9942839d3a>\u001b[0m in \u001b[0;36m<module>\u001b[0;34m\u001b[0m\n\u001b[0;32m----> 1\u001b[0;31m \u001b[0mgroup\u001b[0m \u001b[0;34m=\u001b[0m \u001b[0mprovider\u001b[0m\u001b[0;34m.\u001b[0m\u001b[0mget_backend\u001b[0m\u001b[0;34m(\u001b[0m\u001b[0;34m'ibmq_16_melbourne'\u001b[0m\u001b[0;34m)\u001b[0m\u001b[0;34m\u001b[0m\u001b[0;34m\u001b[0m\u001b[0m\n\u001b[0m",
      "\u001b[0;31mNameError\u001b[0m: name 'provider' is not defined"
     ]
    }
   ],
   "source": [
    "group = provider.get_backend('ibmq_16_melbourne')"
   ]
  },
  {
   "cell_type": "code",
   "execution_count": 389,
   "metadata": {},
   "outputs": [],
   "source": [
    "simulator = Aer.get_backend('qasm_simulator')"
   ]
  },
  {
   "cell_type": "code",
   "execution_count": 390,
   "metadata": {},
   "outputs": [],
   "source": [
    "job = execute(circuit, backend = simulator, shots = 1024)"
   ]
  },
  {
   "cell_type": "code",
   "execution_count": 391,
   "metadata": {},
   "outputs": [],
   "source": [
    "# uncomment this line to run on real quantum computer\n",
    "# job = execute(circuit, backend = group, shots = 1024)"
   ]
  },
  {
   "cell_type": "code",
   "execution_count": 392,
   "metadata": {},
   "outputs": [
    {
     "name": "stdout",
     "output_type": "stream",
     "text": [
      "Job Status: job has successfully run\n"
     ]
    }
   ],
   "source": [
    "# show job monitor\n",
    "job_monitor(job)"
   ]
  },
  {
   "cell_type": "code",
   "execution_count": 393,
   "metadata": {},
   "outputs": [],
   "source": [
    "result = job.result()"
   ]
  },
  {
   "cell_type": "code",
   "execution_count": 394,
   "metadata": {
    "scrolled": false
   },
   "outputs": [
    {
     "data": {
      "image/png": "[encoded data removed]",
      "text/plain": [
       "<Figure size 504x360 with 1 Axes>"
      ]
     },
     "execution_count": 394,
     "metadata": {},
     "output_type": "execute_result"
    }
   ],
   "source": [
    "plot_histogram(result.get_counts(circuit))"
   ]
  },
  {
   "cell_type": "code",
   "execution_count": 395,
   "metadata": {},
   "outputs": [],
   "source": [
    "import operator\n",
    "\n",
    "counts = result.get_counts()\n",
    "\n",
    "#final_state = numpy.zeros([1,7], dtype = float)\n",
    "final_count = numpy.zeros(7, dtype = int)\n",
    "my_count = 0\n",
    "\n",
    "for key in counts:\n",
    "    count = counts[key]\n",
    "    for i in range(0,len(key)):\n",
    "        if int(key[i]) == 1:\n",
    "            final_count[i] = final_count[i] + counts[key]\n",
    "\n",
    "final_state = final_count / 1024"
   ]
  },
  {
   "cell_type": "code",
   "execution_count": 396,
   "metadata": {},
   "outputs": [
    {
     "name": "stdout",
     "output_type": "stream",
     "text": [
      "Final  Count:  [  0 515 503   0 798 518 509]\n",
      "Final State:  [0.         0.50292969 0.49121094 0.         0.77929688 0.50585938\n",
      " 0.49707031]\n"
     ]
    }
   ],
   "source": [
    "final_state = final_count / 1024\n",
    "print(\"Final  Count: \", final_count)\n",
    "print(\"Final State: \", final_state)"
   ]
  },
  {
   "cell_type": "code",
   "execution_count": 397,
   "metadata": {},
   "outputs": [],
   "source": [
    "# get the answer that occurred with the most probability\n",
    "import operator\n",
    "answer = max(counts.items(), key=operator.itemgetter(1))[0]"
   ]
  },
  {
   "cell_type": "code",
   "execution_count": 398,
   "metadata": {},
   "outputs": [
    {
     "name": "stdout",
     "output_type": "stream",
     "text": [
      "Thank you\n"
     ]
    }
   ],
   "source": [
    "print(\"Thank you\")"
   ]
  },
  {
   "cell_type": "code",
   "execution_count": 399,
   "metadata": {},
   "outputs": [
    {
     "data": {
      "image/png": "[encoded data removed]",
      "text/plain": [
       "<Figure size 432x288 with 1 Axes>"
      ]
     },
     "metadata": {
      "needs_background": "light"
     },
     "output_type": "display_data"
    }
   ],
   "source": [
    "# Create a plot, where 7 binary numbers are represented as a color boxes.\n",
    "import matplotlib.pyplot as plt\n",
    "import math\n",
    "import random\n",
    "\n",
    "first_letter = letters_list[0]\n",
    "\n",
    "ax = plt.gca()\n",
    "\n",
    "for ii in range(0, 7):\n",
    "    # Define state\n",
    "    initial_state = int(first_letter[ii])\n",
    "    #print(initial_state)\n",
    "    ##print(type(final_state[ii]))\n",
    "    p_one = final_state[ii]\n",
    "    # print(p_one)\n",
    "    p_zero = 1 - p_one\n",
    "    # Define color according to the state\n",
    "    color1 = initial_state\n",
    "    color2 = p_one\n",
    "    color3 = p_zero\n",
    "    color_initial = [color1*0.8, color1*0.8, color1*0.8]\n",
    "    color_final = [color1, color2, color3]\n",
    "    # print(\"Color: \", color_initial)\n",
    "    # Define rectangle\n",
    "    rectangle_init = plt.Rectangle((ii*1.1, 5.1), width=1, height=2, facecolor=color_initial)\n",
    "    rectangle_final = plt.Rectangle((ii*1.1, 3), width=1, height=2, facecolor=color_final)\n",
    "    # Add rectangle to plot\n",
    "    ax.add_patch(rectangle_init)\n",
    "    ax.add_patch(rectangle_final)\n",
    "    \n",
    "# Create plot\n",
    "plt.axis(\"scaled\")\n",
    "plt.axis(\"off\")\n",
    "plt.show()\n",
    "\n",
    "# In the first row the inital state is represented with black for 0 and for grey is 1.\n",
    "# In the second row the RGB value of the color for the final state is defined by the following: \n",
    "# R is defined by the initial state. \n",
    "# G is defined by the probability of having 1 as the final state. \n",
    "# B is defined by the probability of having 0 as the final state."
   ]
  },
  {
   "cell_type": "code",
   "execution_count": null,
   "metadata": {},
   "outputs": [],
   "source": []
  },
  {
   "cell_type": "code",
   "execution_count": null,
   "metadata": {},
   "outputs": [],
   "source": []
  }
 ],
 "metadata": {
  "kernelspec": {
   "display_name": "Python 3",
   "language": "python",
   "name": "python3"
  },
  "language_info": {
   "codemirror_mode": {
    "name": "ipython",
    "version": 3
   },
   "file_extension": ".py",
   "mimetype": "text/x-python",
   "name": "python",
   "nbconvert_exporter": "python",
   "pygments_lexer": "ipython3",
   "version": "3.7.6"
  }
 },
 "nbformat": 4,
 "nbformat_minor": 4
}
