{
 "cells": [
  {
   "cell_type": "code",
   "execution_count": 98,
   "metadata": {},
   "outputs": [],
   "source": [
    "# Yale Quantum Institute Hackathon\n",
    "# Date: June 2020\n",
    "# Team: Quantum Hoppers\n",
    "#\n",
    "# Team Members:\n",
    "# Paola\n",
    "# Amy\n",
    "# Nana\n",
    "# Klaara\n",
    "# Bruce"
   ]
  },
  {
   "cell_type": "code",
   "execution_count": 99,
   "metadata": {},
   "outputs": [],
   "source": [
    "from qiskit import *"
   ]
  },
  {
   "cell_type": "code",
   "execution_count": 100,
   "metadata": {},
   "outputs": [],
   "source": [
    "from qiskit.tools.visualization import plot_histogram"
   ]
  },
  {
   "cell_type": "code",
   "execution_count": 101,
   "metadata": {},
   "outputs": [],
   "source": [
    "from qiskit.tools.monitor import job_monitor"
   ]
  },
  {
   "cell_type": "code",
   "execution_count": 102,
   "metadata": {},
   "outputs": [],
   "source": [
    "%matplotlib inline"
   ]
  },
  {
   "cell_type": "code",
   "execution_count": 103,
   "metadata": {},
   "outputs": [
    {
     "name": "stdout",
     "output_type": "stream",
     "text": [
      "Enter Your Name:Amy\n"
     ]
    }
   ],
   "source": [
    "name = input(\"Enter Your Name:\")"
   ]
  },
  {
   "cell_type": "code",
   "execution_count": 104,
   "metadata": {},
   "outputs": [],
   "source": [
    "if name ==\"\":\n",
    "    name = \"Marie\""
   ]
  },
  {
   "cell_type": "code",
   "execution_count": 105,
   "metadata": {},
   "outputs": [],
   "source": [
    "# create binary version of name\n",
    "ascii_name = bytes(name, \"ascii\")\n",
    "#print(ascii_name, type(ascii_name))\n",
    "ascii_name = ' '.join([\"{0:b}\".format(x) for x in ascii_name])\n",
    "#print(type(ascii_name), ascii_name)"
   ]
  },
  {
   "cell_type": "code",
   "execution_count": 106,
   "metadata": {},
   "outputs": [],
   "source": [
    "# QUANTUM CIRCUIT CREATION"
   ]
  },
  {
   "cell_type": "code",
   "execution_count": 107,
   "metadata": {},
   "outputs": [],
   "source": [
    "# Create 7 circuits becuase each letter has 7 bits\n",
    "my_quantum_circuit_quantity = 7\n",
    "my_classical_circuit_quantity = 7"
   ]
  },
  {
   "cell_type": "code",
   "execution_count": 108,
   "metadata": {},
   "outputs": [],
   "source": [
    "circuit = QuantumCircuit(my_quantum_circuit_quantity,my_classical_circuit_quantity)\n",
    "#print(\"Created {} quantum circuits.\".format(my_quantum_circuit_quantity))"
   ]
  },
  {
   "cell_type": "code",
   "execution_count": 109,
   "metadata": {},
   "outputs": [
    {
     "name": "stdout",
     "output_type": "stream",
     "text": [
      "['1000001', '1101101', '1111001']\n"
     ]
    }
   ],
   "source": [
    "letters_list = ascii_name.split()\n",
    "print(letters_list)\n",
    "# letters_list contains the binary representation of the person's name in a list\n",
    "# So Marie is '1001101', '1100001', '1110010', '1101001', '1100101'\n",
    "\n",
    "# take each letter and apply a gate to the quantum circuit based on the 0's and 1's that make up the letter  \n",
    "\n",
    "for i in range(0, len(letters_list)):\n",
    "    letters = letters_list[i]\n",
    "    for j in range(0, len(letters)):\n",
    "        if int(letters[j])== 1 and i == 0 :\n",
    "            circuit.h(j)\n",
    "        if int(letters[j])== 1 and i == 1 :\n",
    "            circuit.id(j)\n",
    "        ## if there are two 1's in a row, put a controlled not gate\n",
    "        if j < len(letters)-1 and int(letters[j])== 1 and int(letters[j+1])== 1 and i == 2 :\n",
    "            circuit.cx(j,j+1)\n",
    "        ## if there are two 0's in a row, put a controlled not gate    \n",
    "        if j < len(letters)-1 and int(letters[j])== 0 and int(letters[j+1])== 0 and i == 2 :\n",
    "            circuit.cx(j,j+1)\n",
    "        ## if there are two 1's in a row, put U2  \n",
    "        if j < len(letters)-2 and int(letters[j])== 1 and int(letters[j+1])== 1 and i == 3 :\n",
    "            circuit.u2(j,j+1,j+2)\n",
    "        ## if there are two 0's in a row, put U2      \n",
    "        if j < len(letters)-2 and int(letters[j])== 0 and int(letters[j+1])== 0 and i == 3 :\n",
    "            circuit.u2(j,j+1,j+2)\n",
    "        ## if there are two 1's in a row, put U3    \n",
    "        if j < len(letters)-2 and int(letters[j])== 1 and int(letters[j+1])== 1 and i == 4 :\n",
    "            circuit.u3(j,j+1,j+2, j+3)\n",
    "        ## if there are two 1's in a row, put U3    \n",
    "        if j < len(letters)-2 and int(letters[j])== 0 and int(letters[j+1])== 0 and i == 4 :\n",
    "            circuit.u3(j,j+1,j+2, j+3)       \n",
    "        if int(letters[j])== 1 and i == 5 :\n",
    "            circuit.u1(j, j-1)\n",
    "    circuit.barrier()"
   ]
  },
  {
   "cell_type": "code",
   "execution_count": 110,
   "metadata": {},
   "outputs": [
    {
     "data": {
      "image/png": "[encoded data removed]",
      "text/plain": [
       "<Figure size 659.792x505.68 with 1 Axes>"
      ]
     },
     "execution_count": 110,
     "metadata": {},
     "output_type": "execute_result"
    }
   ],
   "source": [
    "circuit.draw(output='mpl') \n"
   ]
  },
  {
   "cell_type": "code",
   "execution_count": 111,
   "metadata": {},
   "outputs": [],
   "source": [
    "# Preparing to send job to Quantum Computer"
   ]
  },
  {
   "cell_type": "code",
   "execution_count": 112,
   "metadata": {},
   "outputs": [
    {
     "name": "stderr",
     "output_type": "stream",
     "text": [
      "ibmqfactory.load_account:WARNING:2020-06-30 13:40:24,017: Credentials are already in use. The existing account in the session will be replaced.\n"
     ]
    },
    {
     "data": {
      "text/plain": [
       "<AccountProvider for IBMQ(hub='ibm-q', group='open', project='main')>"
      ]
     },
     "execution_count": 112,
     "metadata": {},
     "output_type": "execute_result"
    }
   ],
   "source": [
    "IBMQ.load_account()"
   ]
  },
  {
   "cell_type": "code",
   "execution_count": 113,
   "metadata": {},
   "outputs": [],
   "source": [
    "provider = IBMQ.get_provider('ibm-q')"
   ]
  },
  {
   "cell_type": "code",
   "execution_count": 114,
   "metadata": {},
   "outputs": [],
   "source": [
    "#London is 5 qbits  - 8192 shots maximum."
   ]
  },
  {
   "cell_type": "code",
   "execution_count": 115,
   "metadata": {},
   "outputs": [],
   "source": [
    "#group = provider.get_backend('ibmq_london')"
   ]
  },
  {
   "cell_type": "code",
   "execution_count": 116,
   "metadata": {},
   "outputs": [],
   "source": [
    "#Melbourne is 15 qbits  - 8192 shots maximum."
   ]
  },
  {
   "cell_type": "code",
   "execution_count": 117,
   "metadata": {},
   "outputs": [],
   "source": [
    "group = provider.get_backend('ibmq_16_melbourne')"
   ]
  },
  {
   "cell_type": "code",
   "execution_count": 118,
   "metadata": {},
   "outputs": [],
   "source": [
    "simulator = Aer.get_backend('qasm_simulator')"
   ]
  },
  {
   "cell_type": "code",
   "execution_count": 119,
   "metadata": {},
   "outputs": [],
   "source": [
    "job = execute(circuit, backend = simulator, shots = 1024)"
   ]
  },
  {
   "cell_type": "code",
   "execution_count": 120,
   "metadata": {},
   "outputs": [],
   "source": [
    "# uncomment this line to run on real quantum computer\n",
    "job = execute(circuit, backend = group, shots = 1024)"
   ]
  },
  {
   "cell_type": "code",
   "execution_count": null,
   "metadata": {},
   "outputs": [
    {
     "name": "stdout",
     "output_type": "stream",
     "text": [
      "Job Status: job is queued (12)    "
     ]
    }
   ],
   "source": [
    "# show job monitor\n",
    "job_monitor(job)"
   ]
  },
  {
   "cell_type": "code",
   "execution_count": null,
   "metadata": {},
   "outputs": [],
   "source": [
    "result = job.result()"
   ]
  },
  {
   "cell_type": "code",
   "execution_count": null,
   "metadata": {},
   "outputs": [],
   "source": [
    "plot_histogram(result.get_counts(circuit))"
   ]
  },
  {
   "cell_type": "code",
   "execution_count": null,
   "metadata": {},
   "outputs": [],
   "source": [
    "counts = result.get_counts()"
   ]
  },
  {
   "cell_type": "code",
   "execution_count": null,
   "metadata": {},
   "outputs": [],
   "source": [
    "# get the answer that occurred with the most probability\n",
    "import operator\n",
    "answer = max(counts.items(), key=operator.itemgetter(1))[0]"
   ]
  },
  {
   "cell_type": "code",
   "execution_count": null,
   "metadata": {},
   "outputs": [],
   "source": [
    "print(\"Thank you\")"
   ]
  },
  {
   "cell_type": "code",
   "execution_count": null,
   "metadata": {},
   "outputs": [],
   "source": [
    "# Create a plot, where 7 binary numbers are represented as a color boxes.\n",
    "import matplotlib.pyplot as plt\n",
    "import numpy\n",
    "import math\n",
    "import random\n",
    "\n",
    "first_letter = letters_list[0]\n",
    "\n",
    "ax = plt.gca()\n",
    "\n",
    "for ii in range(0, 6):\n",
    "    # Define state\n",
    "    initial_state = int(first_letter[ii])\n",
    "    #print(initial_state)\n",
    "    p_one = numpy.random.rand(1)\n",
    "    # print(p_one)\n",
    "    p_zero = 1 - p_one\n",
    "    # Define color according to the state\n",
    "    color1 = initial_state\n",
    "    color2 = p_one\n",
    "    color3 = p_zero\n",
    "    color = [color1, color2[0], color3[0]]\n",
    "    #print(\"Color: \",color)\n",
    "    # Define rectangle\n",
    "    rectangle = plt.Rectangle((ii*1.1, 3), width=1, height=2, facecolor=color)\n",
    "    # Add rectangle to plot\n",
    "    ax.add_patch(rectangle)\n",
    "# Create plot\n",
    "plt.axis(\"scaled\")\n",
    "plt.axis(\"off\")\n",
    "plt.show()"
   ]
  }
 ],
 "metadata": {
  "kernelspec": {
   "display_name": "Python 3",
   "language": "python",
   "name": "python3"
  },
  "language_info": {
   "codemirror_mode": {
    "name": "ipython",
    "version": 3
   },
   "file_extension": ".py",
   "mimetype": "text/x-python",
   "name": "python",
   "nbconvert_exporter": "python",
   "pygments_lexer": "ipython3",
   "version": "3.7.6"
  }
 },
 "nbformat": 4,
 "nbformat_minor": 4
}
