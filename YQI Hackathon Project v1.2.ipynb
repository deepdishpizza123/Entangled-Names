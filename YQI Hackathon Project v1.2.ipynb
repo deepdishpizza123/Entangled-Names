{
 "cells": [
  {
   "cell_type": "code",
   "execution_count": 224,
   "metadata": {},
   "outputs": [],
   "source": [
    "# Yale Quantum Institute Hackathon\n",
    "# Date: June 2020\n",
    "# Team: Quantum Hoppers\n",
    "#\n",
    "# Team Members:\n",
    "# Paola\n",
    "# Amy\n",
    "# Nana\n",
    "# Klaara\n",
    "# Bruce"
   ]
  },
  {
   "cell_type": "code",
   "execution_count": 225,
   "metadata": {},
   "outputs": [],
   "source": [
    "from qiskit import *"
   ]
  },
  {
   "cell_type": "code",
   "execution_count": 226,
   "metadata": {},
   "outputs": [],
   "source": [
    "from qiskit.tools.visualization import plot_histogram"
   ]
  },
  {
   "cell_type": "code",
   "execution_count": 227,
   "metadata": {},
   "outputs": [],
   "source": [
    "from qiskit.tools.monitor import job_monitor"
   ]
  },
  {
   "cell_type": "code",
   "execution_count": 228,
   "metadata": {},
   "outputs": [],
   "source": [
    "import numpy"
   ]
  },
  {
   "cell_type": "code",
   "execution_count": 229,
   "metadata": {},
   "outputs": [],
   "source": [
    "%matplotlib inline"
   ]
  },
  {
   "cell_type": "code",
   "execution_count": 230,
   "metadata": {},
   "outputs": [
    {
     "name": "stdout",
     "output_type": "stream",
     "text": [
      "Enter Your Name:Klaara\n"
     ]
    }
   ],
   "source": [
    "name = input(\"Enter Your Name:\")"
   ]
  },
  {
   "cell_type": "code",
   "execution_count": 231,
   "metadata": {},
   "outputs": [],
   "source": [
    "if name ==\"\":\n",
    "    name = \"Marie\""
   ]
  },
  {
   "cell_type": "code",
   "execution_count": 232,
   "metadata": {},
   "outputs": [],
   "source": [
    "# create binary version of name\n",
    "ascii_name = bytes(name, \"ascii\")\n",
    "#print(ascii_name, type(ascii_name))\n",
    "ascii_name = ' '.join([\"{0:b}\".format(x) for x in ascii_name])\n",
    "#print(type(ascii_name), ascii_name)"
   ]
  },
  {
   "cell_type": "code",
   "execution_count": 233,
   "metadata": {},
   "outputs": [],
   "source": [
    "# QUANTUM CIRCUIT CREATION"
   ]
  },
  {
   "cell_type": "code",
   "execution_count": 234,
   "metadata": {},
   "outputs": [],
   "source": [
    "# Create 7 circuits becuase each letter has 7 bits\n",
    "my_quantum_circuit_quantity = 7\n",
    "my_classical_circuit_quantity = 7"
   ]
  },
  {
   "cell_type": "code",
   "execution_count": 235,
   "metadata": {},
   "outputs": [],
   "source": [
    "circuit = QuantumCircuit(my_quantum_circuit_quantity,my_classical_circuit_quantity)\n",
    "#print(\"Created {} quantum circuits.\".format(my_quantum_circuit_quantity))"
   ]
  },
  {
   "cell_type": "code",
   "execution_count": 236,
   "metadata": {},
   "outputs": [
    {
     "name": "stdout",
     "output_type": "stream",
     "text": [
      "['1001011', '1101100', '1100001', '1100001', '1110010', '1100001']\n"
     ]
    }
   ],
   "source": [
    "letters_list = ascii_name.split()\n",
    "print(letters_list)\n",
    "# letters_list contains the binary representation of the person's name in a list\n",
    "# So Marie is '1001101', '1100001', '1110010', '1101001', '1100101'\n",
    "\n",
    "# take each letter and apply a gate to the quantum circuit based on the 0's and 1's that make up the letter  \n",
    "\n",
    "for i in range(0, len(letters_list)):\n",
    "    letters = letters_list[i]\n",
    "    for j in range(0, len(letters)):\n",
    "        if int(letters[j])== 1 and i == 0 :\n",
    "            circuit.x(j)\n",
    "        if int(letters[j])== 1 and i == 1 :\n",
    "            circuit.h(j)\n",
    "        if int(letters[j])== 1 and i == 2 :\n",
    "            circuit.id(j)\n",
    "        ## if there are two 1's in a row, put a controlled not gate\n",
    "        if j < len(letters)-1 and int(letters[j])== 1 and int(letters[j+1])== 1 and i == 3 :\n",
    "            circuit.cx(j,j+1)\n",
    "        ## if there are two 0's in a row, put a controlled not gate    \n",
    "        if j < len(letters)-1 and int(letters[j])== 0 and int(letters[j+1])== 0 and i == 3 :\n",
    "            circuit.cx(j,j+1)\n",
    "        ## if there are two 1's in a row, put U2  \n",
    "        if j < len(letters)-2 and int(letters[j])== 1 and int(letters[j+1])== 1 and i == 4 :\n",
    "            circuit.u2(j,j+1,j+2)\n",
    "        ## if there are two 0's in a row, put U2      \n",
    "        if j < len(letters)-2 and int(letters[j])== 0 and int(letters[j+1])== 0 and i == 4 :\n",
    "            circuit.u2(j,j+1,j+2)\n",
    "        ## if there are two 1's in a row, put U3    \n",
    "        if j < len(letters)-3 and int(letters[j])== 1 and int(letters[j+1])== 1 and i == 5 :\n",
    "            circuit.u3(j,j+1,j+2, j+3)\n",
    "        ## if there are two 1's in a row, put U3    \n",
    "        if j < len(letters)-3 and int(letters[j])== 0 and int(letters[j+1])== 0 and i == 5 :\n",
    "            circuit.u3(j,j+1,j+2, j+3)       \n",
    "        if int(letters[j])== 1 and i == 6 :\n",
    "            circuit.u1(j, j-1)\n",
    "    circuit.barrier()"
   ]
  },
  {
   "cell_type": "code",
   "execution_count": 237,
   "metadata": {},
   "outputs": [
    {
     "data": {
      "text/plain": [
       "<qiskit.circuit.instructionset.InstructionSet at 0x7fce10859a10>"
      ]
     },
     "execution_count": 237,
     "metadata": {},
     "output_type": "execute_result"
    }
   ],
   "source": [
    "circuit.measure([0,1,2,3,4,5,6],[0,1,2,3,4,5,6])"
   ]
  },
  {
   "cell_type": "code",
   "execution_count": 238,
   "metadata": {},
   "outputs": [
    {
     "data": {
      "image/png": "[encoded data removed]",
      "text/plain": [
       "<Figure size 1562.79x505.68 with 1 Axes>"
      ]
     },
     "execution_count": 238,
     "metadata": {},
     "output_type": "execute_result"
    }
   ],
   "source": [
    "circuit.draw(output='mpl') "
   ]
  },
  {
   "cell_type": "code",
   "execution_count": 239,
   "metadata": {},
   "outputs": [],
   "source": [
    "# Preparing to send job to Quantum Computer"
   ]
  },
  {
   "cell_type": "code",
   "execution_count": 240,
   "metadata": {},
   "outputs": [
    {
     "name": "stderr",
     "output_type": "stream",
     "text": [
      "ibmqfactory.load_account:WARNING:2020-06-30 20:01:03,544: Credentials are already in use. The existing account in the session will be replaced.\n"
     ]
    },
    {
     "data": {
      "text/plain": [
       "<AccountProvider for IBMQ(hub='ibm-q', group='open', project='main')>"
      ]
     },
     "execution_count": 240,
     "metadata": {},
     "output_type": "execute_result"
    }
   ],
   "source": [
    "IBMQ.load_account()"
   ]
  },
  {
   "cell_type": "code",
   "execution_count": 241,
   "metadata": {},
   "outputs": [],
   "source": [
    "provider = IBMQ.get_provider('ibm-q')"
   ]
  },
  {
   "cell_type": "code",
   "execution_count": 242,
   "metadata": {},
   "outputs": [],
   "source": [
    "#London is 5 qbits  - 8192 shots maximum."
   ]
  },
  {
   "cell_type": "code",
   "execution_count": 243,
   "metadata": {},
   "outputs": [],
   "source": [
    "#group = provider.get_backend('ibmq_london')"
   ]
  },
  {
   "cell_type": "code",
   "execution_count": 244,
   "metadata": {},
   "outputs": [],
   "source": [
    "#Melbourne is 15 qbits  - 8192 shots maximum."
   ]
  },
  {
   "cell_type": "code",
   "execution_count": 245,
   "metadata": {},
   "outputs": [],
   "source": [
    "group = provider.get_backend('ibmq_16_melbourne')"
   ]
  },
  {
   "cell_type": "code",
   "execution_count": 246,
   "metadata": {},
   "outputs": [],
   "source": [
    "simulator = Aer.get_backend('qasm_simulator')"
   ]
  },
  {
   "cell_type": "code",
   "execution_count": 247,
   "metadata": {},
   "outputs": [],
   "source": [
    "job = execute(circuit, backend = simulator, shots = 1024)"
   ]
  },
  {
   "cell_type": "code",
   "execution_count": 248,
   "metadata": {},
   "outputs": [],
   "source": [
    "# uncomment this line to run on real quantum computer\n",
    "# job = execute(circuit, backend = group, shots = 1024)"
   ]
  },
  {
   "cell_type": "code",
   "execution_count": 249,
   "metadata": {},
   "outputs": [
    {
     "name": "stdout",
     "output_type": "stream",
     "text": [
      "\r",
      "Job Status: job has successfully run\n"
     ]
    }
   ],
   "source": [
    "# show job monitor\n",
    "job_monitor(job)"
   ]
  },
  {
   "cell_type": "code",
   "execution_count": 250,
   "metadata": {},
   "outputs": [],
   "source": [
    "result = job.result()"
   ]
  },
  {
   "cell_type": "code",
   "execution_count": 251,
   "metadata": {},
   "outputs": [
    {
     "data": {
      "image/png": "[encoded data removed]",
      "text/plain": [
       "<Figure size 504x360 with 1 Axes>"
      ]
     },
     "execution_count": 251,
     "metadata": {},
     "output_type": "execute_result"
    }
   ],
   "source": [
    "plot_histogram(result.get_counts(circuit))"
   ]
  },
  {
   "cell_type": "code",
   "execution_count": 252,
   "metadata": {},
   "outputs": [],
   "source": [
    "import operator\n",
    "\n",
    "counts = result.get_counts()\n",
    "\n",
    "#final_state = numpy.zeros([1,7], dtype = float)\n",
    "final_count = numpy.zeros(7, dtype = int)\n",
    "my_count = 0\n",
    "\n",
    "for key in counts:\n",
    "    count = counts[key]\n",
    "    for i in range(0,len(key)):\n",
    "        if int(key[i]) == 1:\n",
    "            final_count[i] = final_count[i] + counts[key]\n",
    "\n",
    "final_state = final_count / 1024"
   ]
  },
  {
   "cell_type": "code",
   "execution_count": 253,
   "metadata": {},
   "outputs": [
    {
     "name": "stdout",
     "output_type": "stream",
     "text": [
      "Final  Count:  [  5 498 499 708 516 512 512]\n",
      "Final State:  [0.00488281 0.48632812 0.48730469 0.69140625 0.50390625 0.5\n",
      " 0.5       ]\n"
     ]
    }
   ],
   "source": [
    "final_state = final_count / 1024\n",
    "print(\"Final  Count: \", final_count)\n",
    "print(\"Final State: \", final_state)"
   ]
  },
  {
   "cell_type": "code",
   "execution_count": 254,
   "metadata": {},
   "outputs": [],
   "source": [
    "# get the answer that occurred with the most probability\n",
    "import operator\n",
    "answer = max(counts.items(), key=operator.itemgetter(1))[0]"
   ]
  },
  {
   "cell_type": "code",
   "execution_count": 255,
   "metadata": {},
   "outputs": [
    {
     "name": "stdout",
     "output_type": "stream",
     "text": [
      "Thank you\n"
     ]
    }
   ],
   "source": [
    "print(\"Thank you\")"
   ]
  },
  {
   "cell_type": "code",
   "execution_count": 256,
   "metadata": {},
   "outputs": [
    {
     "data": {
      "image/png": "[encoded data removed]",
      "text/plain": [
       "<Figure size 432x288 with 1 Axes>"
      ]
     },
     "metadata": {
      "needs_background": "light"
     },
     "output_type": "display_data"
    }
   ],
   "source": [
    "# Create a plot, where 7 binary numbers are represented as a color boxes.\n",
    "import matplotlib.pyplot as plt\n",
    "import math\n",
    "import random\n",
    "\n",
    "first_letter = letters_list[0]\n",
    "\n",
    "ax = plt.gca()\n",
    "\n",
    "for ii in range(0, 6):\n",
    "    # Define state\n",
    "    initial_state = int(first_letter[ii])\n",
    "    #print(initial_state)\n",
    "    ##print(type(final_state[ii]))\n",
    "    p_one = final_state[ii]\n",
    "    # print(p_one)\n",
    "    p_zero = 1 - p_one\n",
    "    # Define color according to the state\n",
    "    color1 = initial_state\n",
    "    color2 = p_one\n",
    "    color3 = p_zero\n",
    "    color_initial = [color1*0.8, color1*0.8, color1*0.8]\n",
    "    color_final = [color1, color2, color3]\n",
    "    # print(\"Color: \", color_initial)\n",
    "    # Define rectangle\n",
    "    rectangle_init = plt.Rectangle((ii*1.1, 5.1), width=1, height=2, facecolor=color_initial)\n",
    "    rectangle_final = plt.Rectangle((ii*1.1, 3), width=1, height=2, facecolor=color_final)\n",
    "    # Add rectangle to plot\n",
    "    ax.add_patch(rectangle_init)\n",
    "    ax.add_patch(rectangle_final)\n",
    "    \n",
    "# Create plot\n",
    "plt.axis(\"scaled\")\n",
    "plt.axis(\"off\")\n",
    "plt.show()\n",
    "\n",
    "# inital state black is 0 grey is 1 \n",
    "# processed state is red is defined by initial state.\n",
    "# green is defined by probablity of having one\n",
    "# blue is defined by probability of having zero\n"
   ]
  },
  {
   "cell_type": "code",
   "execution_count": null,
   "metadata": {},
   "outputs": [],
   "source": []
  }
 ],
 "metadata": {
  "kernelspec": {
   "display_name": "Python 3",
   "language": "python",
   "name": "python3"
  },
  "language_info": {
   "codemirror_mode": {
    "name": "ipython",
    "version": 3
   },
   "file_extension": ".py",
   "mimetype": "text/x-python",
   "name": "python",
   "nbconvert_exporter": "python",
   "pygments_lexer": "ipython3",
   "version": "3.7.6"
  }
 },
 "nbformat": 4,
 "nbformat_minor": 4
}
